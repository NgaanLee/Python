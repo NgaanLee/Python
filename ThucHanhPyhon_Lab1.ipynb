{
  "nbformat": 4,
  "nbformat_minor": 0,
  "metadata": {
    "colab": {
      "name": "ThucHanhPyhon_Lab1.ipynb",
      "provenance": [],
      "collapsed_sections": [],
      "authorship_tag": "ABX9TyPrvFjIpIIotmgLBzH3OncA",
      "include_colab_link": true
    },
    "kernelspec": {
      "name": "python3",
      "display_name": "Python 3"
    },
    "language_info": {
      "name": "python"
    }
  },
  "cells": [
    {
      "cell_type": "markdown",
      "metadata": {
        "id": "view-in-github",
        "colab_type": "text"
      },
      "source": [
        "<a href=\"https://colab.research.google.com/github/NgaanLee/Python/blob/main/ThucHanhPyhon_Lab1.ipynb\" target=\"_parent\"><img src=\"https://colab.research.google.com/assets/colab-badge.svg\" alt=\"Open In Colab\"/></a>"
      ]
    },
    {
      "cell_type": "markdown",
      "metadata": {
        "id": "ok5Z9Lffk8yj"
      },
      "source": [
        "# LAB 1: Ngôn ngữ lập trình Python và modules"
      ]
    },
    {
      "cell_type": "markdown",
      "metadata": {
        "id": "2l_jZIrVlRwr"
      },
      "source": [
        "# Bài tập chương 3"
      ]
    },
    {
      "cell_type": "markdown",
      "metadata": {
        "id": "r6gUpz4GlZCp"
      },
      "source": [
        "1. Two of Python’s built-in functions are min and max. In the Python shell,\n",
        "execute the following function calls:"
      ]
    },
    {
      "cell_type": "code",
      "metadata": {
        "colab": {
          "base_uri": "https://localhost:8080/"
        },
        "id": "WDLt7fqtjCze",
        "outputId": "37afd325-c644-4acc-eee6-5545ce73aa03"
      },
      "source": [
        "min(2,3,4)"
      ],
      "execution_count": null,
      "outputs": [
        {
          "output_type": "execute_result",
          "data": {
            "text/plain": [
              "2"
            ]
          },
          "metadata": {},
          "execution_count": 1
        }
      ]
    },
    {
      "cell_type": "code",
      "metadata": {
        "colab": {
          "base_uri": "https://localhost:8080/"
        },
        "id": "fz1nPFefksBD",
        "outputId": "d75e16b9-41be-48ee-bcd6-cb242b5a6468"
      },
      "source": [
        "max(2,-3,4,7,-5)"
      ],
      "execution_count": null,
      "outputs": [
        {
          "output_type": "execute_result",
          "data": {
            "text/plain": [
              "7"
            ]
          },
          "metadata": {},
          "execution_count": 2
        }
      ]
    },
    {
      "cell_type": "code",
      "metadata": {
        "colab": {
          "base_uri": "https://localhost:8080/"
        },
        "id": "OQxfUkT-kx5-",
        "outputId": "070f0ed7-3e1a-44b6-b1b3-95f74a422bf4"
      },
      "source": [
        "max(2,-3,min(4,7),-5)"
      ],
      "execution_count": null,
      "outputs": [
        {
          "output_type": "execute_result",
          "data": {
            "text/plain": [
              "4"
            ]
          },
          "metadata": {},
          "execution_count": 3
        }
      ]
    },
    {
      "cell_type": "markdown",
      "metadata": {
        "id": "7IZbuCC-k6K3"
      },
      "source": [
        "2. For the following function calls, in what order are the subexpressions\n",
        "evaluated?"
      ]
    },
    {
      "cell_type": "code",
      "metadata": {
        "colab": {
          "base_uri": "https://localhost:8080/"
        },
        "id": "8zmBGC_Ilk0n",
        "outputId": "856cdaf0-407c-489c-dedc-c1d080d6439a"
      },
      "source": [
        "min(max(3, 4), abs(-5))"
      ],
      "execution_count": null,
      "outputs": [
        {
          "output_type": "execute_result",
          "data": {
            "text/plain": [
              "4"
            ]
          },
          "metadata": {},
          "execution_count": 4
        }
      ]
    },
    {
      "cell_type": "code",
      "metadata": {
        "colab": {
          "base_uri": "https://localhost:8080/"
        },
        "id": "KhcIOSKVltlI",
        "outputId": "1e0faae4-6d8f-47b8-eb4a-fd1e61c979ca"
      },
      "source": [
        "abs(min(4, 6, max(2, 8)))"
      ],
      "execution_count": null,
      "outputs": [
        {
          "output_type": "execute_result",
          "data": {
            "text/plain": [
              "4"
            ]
          },
          "metadata": {},
          "execution_count": 5
        }
      ]
    },
    {
      "cell_type": "code",
      "metadata": {
        "colab": {
          "base_uri": "https://localhost:8080/"
        },
        "id": "5bzzVdAFnFlR",
        "outputId": "c8c51e78-5e1c-4205-e9a1-ad9cd5e5d437"
      },
      "source": [
        "round(max(5.572, 3.258),abs(-2))"
      ],
      "execution_count": null,
      "outputs": [
        {
          "output_type": "execute_result",
          "data": {
            "text/plain": [
              "5.57"
            ]
          },
          "metadata": {},
          "execution_count": 7
        }
      ]
    },
    {
      "cell_type": "markdown",
      "metadata": {
        "id": "SpYnBHPSlj3-"
      },
      "source": [
        "3. Following the function design recipe, define a function that has one\n",
        "parameter, a number, and returns that number tripled"
      ]
    },
    {
      "cell_type": "code",
      "metadata": {
        "id": "Z-wJW17Pl2va"
      },
      "source": [
        "def number_tripled(number):\n",
        "  return number*number*number"
      ],
      "execution_count": null,
      "outputs": []
    },
    {
      "cell_type": "code",
      "metadata": {
        "colab": {
          "base_uri": "https://localhost:8080/"
        },
        "id": "lZX2l_9PolOv",
        "outputId": "bd48ead2-25ed-4a5c-d9f0-0935c9632cae"
      },
      "source": [
        "number_tripled(3)"
      ],
      "execution_count": null,
      "outputs": [
        {
          "output_type": "execute_result",
          "data": {
            "text/plain": [
              "27"
            ]
          },
          "metadata": {},
          "execution_count": 9
        }
      ]
    },
    {
      "cell_type": "markdown",
      "metadata": {
        "id": "fZ9Z2bLTorpk"
      },
      "source": [
        "4. Following the function design recipe, define a function that has two\n",
        "parameters, both of which are numbers, and returns the absolute value\n",
        "of the difference of the two. Hint: Call built-in function abs."
      ]
    },
    {
      "cell_type": "code",
      "metadata": {
        "id": "8vl1fVHxo9qN"
      },
      "source": [
        "def abs_difference(a,b):\n",
        "  return abs(a-b)"
      ],
      "execution_count": null,
      "outputs": []
    },
    {
      "cell_type": "code",
      "metadata": {
        "colab": {
          "base_uri": "https://localhost:8080/"
        },
        "id": "xn-lf-zmp6KE",
        "outputId": "8d1a3d8a-9f1f-4342-9c08-53d7c385d9f9"
      },
      "source": [
        "abs_difference(4,5)"
      ],
      "execution_count": null,
      "outputs": [
        {
          "output_type": "execute_result",
          "data": {
            "text/plain": [
              "1"
            ]
          },
          "metadata": {},
          "execution_count": 13
        }
      ]
    },
    {
      "cell_type": "markdown",
      "metadata": {
        "id": "RBI7bSTBqAwS"
      },
      "source": [
        "5. Following the function design recipe, define a function that has one\n",
        "parameter, a distance in kilometers, and returns the distance in miles.\n",
        "(There are 1.6 kilometers per mile.)"
      ]
    },
    {
      "cell_type": "code",
      "metadata": {
        "id": "Vc1-d_rlqDRE"
      },
      "source": [
        "def dis_miles(km):\n",
        "  return km/1.6"
      ],
      "execution_count": null,
      "outputs": []
    },
    {
      "cell_type": "code",
      "metadata": {
        "colab": {
          "base_uri": "https://localhost:8080/"
        },
        "id": "ieK4AZdxsdKe",
        "outputId": "48fcb1ef-9c60-43a0-a1a0-500468b57743"
      },
      "source": [
        "dis_miles(5)"
      ],
      "execution_count": null,
      "outputs": [
        {
          "output_type": "execute_result",
          "data": {
            "text/plain": [
              "3.125"
            ]
          },
          "metadata": {},
          "execution_count": 16
        }
      ]
    },
    {
      "cell_type": "markdown",
      "metadata": {
        "id": "FmaW7azhsmc4"
      },
      "source": [
        "6. Following the function design recipe, define a function that has three\n",
        "parameters, grades between 0 and 100 inclusive, and returns the average\n",
        "of those grades."
      ]
    },
    {
      "cell_type": "code",
      "metadata": {
        "id": "_Psty9t6sq3a"
      },
      "source": [
        "def avg_three(num1,num2,num3):\n",
        "  return (num1+num2+num3)/3"
      ],
      "execution_count": null,
      "outputs": []
    },
    {
      "cell_type": "code",
      "metadata": {
        "colab": {
          "base_uri": "https://localhost:8080/"
        },
        "id": "ARAYVHG2tjFz",
        "outputId": "4300b75f-433f-4917-edfc-a2990690a3f7"
      },
      "source": [
        "avg_three(3,4,5)"
      ],
      "execution_count": null,
      "outputs": [
        {
          "output_type": "execute_result",
          "data": {
            "text/plain": [
              "4.0"
            ]
          },
          "metadata": {},
          "execution_count": 18
        }
      ]
    },
    {
      "cell_type": "markdown",
      "metadata": {
        "id": "TNYcoGg-tn6r"
      },
      "source": [
        "7. Following the function design recipe, define a function that has four\n",
        "parameters, all of them grades between 0 and 100 inclusive, and returns\n",
        "the average of the best 3 of those grades. Hint: Call the function that you\n",
        "defined in the previous exercise"
      ]
    },
    {
      "cell_type": "code",
      "metadata": {
        "id": "0em1w1QZuMbk"
      },
      "source": [
        "def avg_threemax(num1,num2,num3,num4):\n",
        "  a=(num1+num2+num3)/3\n",
        "  b=(num1+num2+num4)/3\n",
        "  c=(num1+num3+num4)/3\n",
        "  d=(num2+num3+num4)/3\n",
        "  return max(a,b,c,d)"
      ],
      "execution_count": null,
      "outputs": []
    },
    {
      "cell_type": "code",
      "metadata": {
        "colab": {
          "base_uri": "https://localhost:8080/"
        },
        "id": "Hjq1EGIv39Dh",
        "outputId": "23e30767-c84d-4849-b65d-6614ac78e3e8"
      },
      "source": [
        "avg_threemax(5,5,7,4)"
      ],
      "execution_count": null,
      "outputs": [
        {
          "output_type": "execute_result",
          "data": {
            "text/plain": [
              "5.666666666666667"
            ]
          },
          "metadata": {},
          "execution_count": 37
        }
      ]
    },
    {
      "cell_type": "markdown",
      "metadata": {
        "id": "A2Q0SpLmwgzW"
      },
      "source": [
        "8. Complete the examples in the docstring and then write the body of the\n",
        "following function:\n"
      ]
    },
    {
      "cell_type": "code",
      "metadata": {
        "id": "9cmD-7h2wtoW"
      },
      "source": [
        "def weeks_elapsed(day1, day2):\n",
        "  #day1 and day2 are days in the same year. Return the number of full weeks that have elapsed between the two days.\n",
        "  return (abs(day2-day1)//7)"
      ],
      "execution_count": null,
      "outputs": []
    },
    {
      "cell_type": "code",
      "metadata": {
        "colab": {
          "base_uri": "https://localhost:8080/"
        },
        "id": "zJFFQBr0xsYs",
        "outputId": "82eaa75d-765a-4e75-eb9b-9bf19d62ad10"
      },
      "source": [
        " weeks_elapsed(40,61)"
      ],
      "execution_count": null,
      "outputs": [
        {
          "output_type": "execute_result",
          "data": {
            "text/plain": [
              "3"
            ]
          },
          "metadata": {},
          "execution_count": 28
        }
      ]
    },
    {
      "cell_type": "markdown",
      "metadata": {
        "id": "_viAWIPLzOQX"
      },
      "source": [
        "9. Consider this code:\n",
        "In the following table, fill in the Example column by writing square, num,\n",
        "square(3), and 3 next to the appropriate description.\n",
        "\n",
        "---\n",
        "*   Parameter(tham số)     = num\n",
        "*   Argument(đối số)       = 3\n",
        "*   Function name(tên hàm) = square\n",
        "*   Function call(gọi hàm) = square(3)\n",
        "\n"
      ]
    },
    {
      "cell_type": "markdown",
      "metadata": {
        "id": "QBp8swv67C8s"
      },
      "source": [
        "10.Write the body of the square function from the previous exercise."
      ]
    },
    {
      "cell_type": "code",
      "metadata": {
        "id": "3Nnp0_op48y3"
      },
      "source": [
        "def square(num):\n",
        "  return num**2"
      ],
      "execution_count": null,
      "outputs": []
    },
    {
      "cell_type": "code",
      "metadata": {
        "colab": {
          "base_uri": "https://localhost:8080/"
        },
        "id": "wd-mrARw57Fk",
        "outputId": "6d1378b5-6c46-40f2-a009-4caaa64b7ef3"
      },
      "source": [
        "square(3)"
      ],
      "execution_count": null,
      "outputs": [
        {
          "output_type": "execute_result",
          "data": {
            "text/plain": [
              "9"
            ]
          },
          "metadata": {},
          "execution_count": 39
        }
      ]
    }
  ]
}