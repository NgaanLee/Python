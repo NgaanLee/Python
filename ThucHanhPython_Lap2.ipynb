{
  "nbformat": 4,
  "nbformat_minor": 0,
  "metadata": {
    "colab": {
      "name": "ThucHanhPython_Lap2",
      "provenance": [],
      "collapsed_sections": [],
      "authorship_tag": "ABX9TyPO+A0AAKXrrWpYuvPXDrHI",
      "include_colab_link": true
    },
    "kernelspec": {
      "name": "python3",
      "display_name": "Python 3"
    },
    "language_info": {
      "name": "python"
    }
  },
  "cells": [
    {
      "cell_type": "markdown",
      "metadata": {
        "id": "view-in-github",
        "colab_type": "text"
      },
      "source": [
        "<a href=\"https://colab.research.google.com/github/NgaanLee/Python/blob/main/ThucHanhPython_Lap2.ipynb\" target=\"_parent\"><img src=\"https://colab.research.google.com/assets/colab-badge.svg\" alt=\"Open In Colab\"/></a>"
      ]
    },
    {
      "cell_type": "markdown",
      "metadata": {
        "id": "lzO4Sl6Ng5N2"
      },
      "source": [
        "# LAP 2: LƯU TRỮ CÁC BỘ DỮ LIỆU VỚI LIST\n"
      ]
    },
    {
      "cell_type": "markdown",
      "metadata": {
        "id": "D49rU7C-ikYe"
      },
      "source": [
        "## Bài tập chương 8"
      ]
    },
    {
      "cell_type": "markdown",
      "metadata": {
        "id": "PRZ9Yc1-hKIP"
      },
      "source": [
        "1. Variable kingdoms refers to the list ['Bacteria', 'Protozoa', 'Chromista', \n",
        "'Plantae', 'Fungi',\n",
        "'Animalia']. Using kingdoms and either slicing or indexing with positive \n",
        "indices,\n",
        "- write expressions that produce the following:\n",
        "\n",
        "> a. The first item of kingdoms\n",
        "\n",
        "> b. The last item of kingdoms\n",
        "\n",
        "> c. The list ['Bacteria', 'Protozoa', 'Chromista']\n",
        "\n",
        "> d. The list ['Chromista', 'Plantae', 'Fungi']\n",
        "\n",
        "> e. The list ['Fungi', 'Animalia']\n",
        "\n",
        "> f. The empty list"
      ]
    },
    {
      "cell_type": "markdown",
      "metadata": {
        "id": "Hgr7_UaXizme"
      },
      "source": [
        "2. Repeat the previous exercise using negative indices."
      ]
    },
    {
      "cell_type": "markdown",
      "metadata": {
        "id": "PwJukKhri1me"
      },
      "source": [
        "3. Variable appointments refers to the list ['9:00', '10:30', '14:00', '15:00', \n",
        "'15:30']. An appointment is scheduled for 16:30, so '16:30' needs to be added \n",
        "to the list.\n",
        "\n",
        "> a. Using list method append, add '16:30' to the end of the list that \n",
        "appointments refers to.\n",
        "\n",
        "> b. Instead of using append, use the + operator to add '16:30' to the end of\n",
        "the list that appointments refers to.\n",
        "\n",
        "> c. You used two approaches to add '16:30' to the list. Which approach modified the list and which approach created a new list?"
      ]
    },
    {
      "cell_type": "markdown",
      "metadata": {
        "id": "CuDRiKiJi_ay"
      },
      "source": [
        "4. Variable ids refers to the list [4353, 2314, 2956, 3382, 9362, 3900]. Using \n",
        "list methods, do the following:\n",
        "\n",
        "> a. Remove 3382 from the list.\n",
        "\n",
        "> b. Get the index of 9362.\n",
        "\n",
        "> c. Insert 4499 in the list after 9362.\n",
        "\n",
        "> d. Extend the list by adding [5566, 1830] to it.\n",
        "\n",
        "> e. Reverse the list.\n",
        "\n",
        "> f. Sort the list."
      ]
    },
    {
      "cell_type": "markdown",
      "metadata": {
        "id": "rrNxXJrYjZgg"
      },
      "source": [
        "5. In this exercise, you’ll create a list and then answer questions about that\n",
        "list.\n",
        "\n",
        "> a. Assign a list that contains the atomic numbers of the six alkaline earth\n",
        "metals—beryllium (4), magnesium (12), calcium (20), strontium (38),\n",
        "barium (56), and radium (88)—to a variable called alkaline_earth_metals.\n",
        "\n",
        "> b. Which index contains radium’s atomic number? Write the answer in two\n",
        "ways, one using a positive index and one using a negative index.\n",
        "\n",
        "> c. Which function tells you how many items there are in \n",
        "alkaline_earth_metals?\n",
        "\n",
        "> d. Write code that returns the highest atomic number in \n",
        "alkaline_earth_metals"
      ]
    },
    {
      "cell_type": "markdown",
      "metadata": {
        "id": "0vKgG177jlyr"
      },
      "source": [
        "6. In this exercise, you’ll create a list and then answer questions about that\n",
        "list.\n",
        "\n",
        "> a. Create a list of temperatures in degrees Celsius with the values 25.2,\n",
        "16.8, 31.4, 23.9, 28, 22.5, and 19.6, and assign it to a variable called\n",
        "temps.\n",
        "\n",
        "> b. Using one of the list methods, sort temps in ascending order.\n",
        "\n",
        "> c. Using slicing, create two new lists, cool_temps and warm_temps, which \n",
        "contain the temperatures below and above 20 degrees Celsius, respectively.\n",
        "\n",
        "> d. Using list arithmetic, recombine cool_temps and warm_temps into a new\n",
        "list called temps_in_celsius."
      ]
    },
    {
      "cell_type": "markdown",
      "metadata": {
        "id": "MySFVtPgjwPO"
      },
      "source": [
        "7. Complete the examples in the docstring and then write the body of the\n",
        "following function:\n",
        "* def same_first_last(L: list) -> bool:\n",
        "\n",
        "\"\"\"Precondition: len(L) >= 2\n",
        "Return True if and only if first item of the list is the same as the\n",
        "last.\n",
        ">same_first_last([3, 4, 2, 8, 3])\n",
        "\n",
        "- True\n",
        "\n",
        "> same_first_last(['apple', 'banana', 'pear'])\n",
        "\n",
        "> same_first_last([4.0, 4.5])\n",
        "\"\"\""
      ]
    },
    {
      "cell_type": "markdown",
      "metadata": {
        "id": "ye8QNfZ3kulh"
      },
      "source": [
        "8. Complete the examples in the docstring and then write the body of the\n",
        "following function:\n",
        "- def is_longer(L1: list, L2: list) -> bool:\n",
        "\n",
        "\"\"\"Return True if and only if the length of L1 is longer than the length\n",
        "of L2.\n",
        ">  is_longer([1, 2, 3], [4, 5])\n",
        "\n",
        "- True\n",
        "\n",
        "> is_longer(['abcdef'], ['ab', 'cd', 'ef'])\n",
        "\n",
        "> is_longer(['a', 'b', 'c'], [1, 2, 3]\n",
        "\"\"\""
      ]
    },
    {
      "cell_type": "markdown",
      "metadata": {
        "id": "-oJIvLlqlQ5T"
      },
      "source": [
        "9. Draw a memory model showing the effect of the following statements:\n",
        "- values = [0, 1, 2]\n",
        "- values[1] = values"
      ]
    },
    {
      "cell_type": "markdown",
      "metadata": {
        "id": "o2cwe5TMlUpx"
      },
      "source": [
        "10. Variable units refers to the nested list [['km', 'miles', 'league'], ['kg', 'pound', \n",
        "'stone']].\n",
        "- Using units and either slicing or indexing with positive indices, write\n",
        "expressions that produce the following:\n",
        "\n",
        "> a. The first item of units (the first inner list)\n",
        "\n",
        "> b. The last item of units (the last inner list)\n",
        "\n",
        "> c. The string 'km'\n",
        "\n",
        "> d. The string 'kg'\n",
        "\n",
        "> e. The list ['miles', 'league']\n",
        "\n",
        ">f. The list ['kg', 'pound']"
      ]
    },
    {
      "cell_type": "markdown",
      "metadata": {
        "id": "V8PgHy03l9ar"
      },
      "source": [
        "11. Repeat the previous exercise using negative indices."
      ]
    },
    {
      "cell_type": "code",
      "metadata": {
        "id": "cfcIza66gk1f"
      },
      "source": [
        ""
      ],
      "execution_count": null,
      "outputs": []
    }
  ]
}